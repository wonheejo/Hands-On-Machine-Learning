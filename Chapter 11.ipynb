{
 "cells": [
  {
   "cell_type": "code",
   "execution_count": 1,
   "metadata": {},
   "outputs": [
    {
     "name": "stderr",
     "output_type": "stream",
     "text": [
      "UsageError: Line magic function `%inline` not found.\n"
     ]
    }
   ],
   "source": [
    "import numpy as np\n",
    "import pandas as pd\n",
    "import os\n",
    "import matplotlib.pyplot as plt\n",
    "%inline matplotlib"
   ]
  },
  {
   "cell_type": "code",
   "execution_count": 2,
   "metadata": {},
   "outputs": [],
   "source": [
    "import tensorflow as tf\n",
    "from tensorflow import keras"
   ]
  },
  {
   "cell_type": "code",
   "execution_count": 3,
   "metadata": {},
   "outputs": [],
   "source": [
    "(x_train_full, y_train_full), (x_test, y_test) = keras.datasets.fashion_mnist.load_data()"
   ]
  },
  {
   "cell_type": "code",
   "execution_count": 4,
   "metadata": {},
   "outputs": [],
   "source": [
    "x_train_full = x_train_full / 255.0\n",
    "x_test = x_test / 255.0"
   ]
  },
  {
   "cell_type": "code",
   "execution_count": 5,
   "metadata": {},
   "outputs": [],
   "source": [
    "x_valid, x_train = x_train_full[:5000], x_train_full[5000:]\n",
    "y_valid, y_train = y_train_full[:5000], y_train_full[5000:]"
   ]
  },
  {
   "cell_type": "code",
   "execution_count": 6,
   "metadata": {},
   "outputs": [],
   "source": [
    "tf.random.set_seed(42)\n",
    "np.random.seed(42)"
   ]
  },
  {
   "cell_type": "code",
   "execution_count": 7,
   "metadata": {},
   "outputs": [
    {
     "data": {
      "text/plain": [
       "(55000, 28, 28)"
      ]
     },
     "execution_count": 7,
     "metadata": {},
     "output_type": "execute_result"
    }
   ],
   "source": [
    "x_train.shape"
   ]
  },
  {
   "cell_type": "code",
   "execution_count": 9,
   "metadata": {},
   "outputs": [],
   "source": [
    "model = keras.models.Sequential([\n",
    "    keras.layers.Flatten(input_shape=[28, 28]),\n",
    "    keras.layers.BatchNormalization(),\n",
    "    keras.layers.Dense(300, activation='relu'),\n",
    "    keras.layers.BatchNormalization(),\n",
    "    keras.layers.Dense(100, activation='relu'),\n",
    "    keras.layers.BatchNormalization(),\n",
    "    keras.layers.Dense(10, activation='softmax')\n",
    "])"
   ]
  },
  {
   "cell_type": "code",
   "execution_count": 10,
   "metadata": {},
   "outputs": [
    {
     "name": "stdout",
     "output_type": "stream",
     "text": [
      "Model: \"sequential_1\"\n",
      "_________________________________________________________________\n",
      "Layer (type)                 Output Shape              Param #   \n",
      "=================================================================\n",
      "flatten_1 (Flatten)          (None, 784)               0         \n",
      "_________________________________________________________________\n",
      "batch_normalization_3 (Batch (None, 784)               3136      \n",
      "_________________________________________________________________\n",
      "dense_3 (Dense)              (None, 300)               235500    \n",
      "_________________________________________________________________\n",
      "batch_normalization_4 (Batch (None, 300)               1200      \n",
      "_________________________________________________________________\n",
      "dense_4 (Dense)              (None, 100)               30100     \n",
      "_________________________________________________________________\n",
      "batch_normalization_5 (Batch (None, 100)               400       \n",
      "_________________________________________________________________\n",
      "dense_5 (Dense)              (None, 10)                1010      \n",
      "=================================================================\n",
      "Total params: 271,346\n",
      "Trainable params: 268,978\n",
      "Non-trainable params: 2,368\n",
      "_________________________________________________________________\n"
     ]
    }
   ],
   "source": [
    "model.summary()"
   ]
  },
  {
   "cell_type": "code",
   "execution_count": 11,
   "metadata": {},
   "outputs": [
    {
     "data": {
      "text/plain": [
       "[('batch_normalization_3/gamma:0', True),\n",
       " ('batch_normalization_3/beta:0', True),\n",
       " ('batch_normalization_3/moving_mean:0', False),\n",
       " ('batch_normalization_3/moving_variance:0', False)]"
      ]
     },
     "execution_count": 11,
     "metadata": {},
     "output_type": "execute_result"
    }
   ],
   "source": [
    "[(var.name, var.trainable) for var in model.layers[1].variables]"
   ]
  },
  {
   "cell_type": "code",
   "execution_count": 12,
   "metadata": {},
   "outputs": [
    {
     "data": {
      "text/plain": [
       "<tensorflow.python.keras.layers.normalization_v2.BatchNormalization at 0x653565a90>"
      ]
     },
     "execution_count": 12,
     "metadata": {},
     "output_type": "execute_result"
    }
   ],
   "source": [
    "model.layers[1]"
   ]
  },
  {
   "cell_type": "code",
   "execution_count": 13,
   "metadata": {},
   "outputs": [],
   "source": [
    "bn1 = model.layers[1]"
   ]
  },
  {
   "cell_type": "code",
   "execution_count": 14,
   "metadata": {},
   "outputs": [
    {
     "data": {
      "text/plain": [
       "<tensorflow.python.keras.layers.normalization_v2.BatchNormalization at 0x653565a90>"
      ]
     },
     "execution_count": 14,
     "metadata": {},
     "output_type": "execute_result"
    }
   ],
   "source": [
    "bn1"
   ]
  },
  {
   "cell_type": "code",
   "execution_count": 15,
   "metadata": {},
   "outputs": [
    {
     "data": {
      "text/plain": [
       "[<tf.Operation 'cond/Identity' type=Identity>,\n",
       " <tf.Operation 'cond_1/Identity' type=Identity>]"
      ]
     },
     "execution_count": 15,
     "metadata": {},
     "output_type": "execute_result"
    }
   ],
   "source": [
    "bn1.updates"
   ]
  },
  {
   "cell_type": "code",
   "execution_count": 16,
   "metadata": {},
   "outputs": [],
   "source": [
    "model.compile(loss='sparse_categorical_crossentropy', optimizer=keras.optimizers.SGD(lr=1e-3), metrics=['accuracy'])"
   ]
  },
  {
   "cell_type": "code",
   "execution_count": 17,
   "metadata": {},
   "outputs": [
    {
     "name": "stdout",
     "output_type": "stream",
     "text": [
      "Train on 55000 samples, validate on 5000 samples\n",
      "Epoch 1/10\n",
      "55000/55000 [==============================] - 5s 97us/sample - loss: 0.8317 - accuracy: 0.7230 - val_loss: 0.5517 - val_accuracy: 0.8130\n",
      "Epoch 2/10\n",
      "55000/55000 [==============================] - 5s 86us/sample - loss: 0.5671 - accuracy: 0.8047 - val_loss: 0.4763 - val_accuracy: 0.8388\n",
      "Epoch 3/10\n",
      "55000/55000 [==============================] - 5s 87us/sample - loss: 0.5129 - accuracy: 0.8212 - val_loss: 0.4416 - val_accuracy: 0.8482\n",
      "Epoch 4/10\n",
      "55000/55000 [==============================] - 5s 88us/sample - loss: 0.4812 - accuracy: 0.8319 - val_loss: 0.4186 - val_accuracy: 0.8544\n",
      "Epoch 5/10\n",
      "55000/55000 [==============================] - 5s 96us/sample - loss: 0.4567 - accuracy: 0.8396 - val_loss: 0.4045 - val_accuracy: 0.8602\n",
      "Epoch 6/10\n",
      "55000/55000 [==============================] - 6s 101us/sample - loss: 0.4413 - accuracy: 0.8457 - val_loss: 0.3929 - val_accuracy: 0.8620\n",
      "Epoch 7/10\n",
      "55000/55000 [==============================] - 6s 104us/sample - loss: 0.4256 - accuracy: 0.8497 - val_loss: 0.3820 - val_accuracy: 0.8638\n",
      "Epoch 8/10\n",
      "55000/55000 [==============================] - 5s 97us/sample - loss: 0.4121 - accuracy: 0.8559 - val_loss: 0.3736 - val_accuracy: 0.8666\n",
      "Epoch 9/10\n",
      "55000/55000 [==============================] - 5s 95us/sample - loss: 0.4009 - accuracy: 0.8581 - val_loss: 0.3677 - val_accuracy: 0.8670\n",
      "Epoch 10/10\n",
      "55000/55000 [==============================] - 5s 99us/sample - loss: 0.3907 - accuracy: 0.8631 - val_loss: 0.3636 - val_accuracy: 0.8700\n"
     ]
    }
   ],
   "source": [
    "history = model.fit(x_train, y_train, epochs=10, validation_data=(x_valid, y_valid))"
   ]
  },
  {
   "cell_type": "code",
   "execution_count": 18,
   "metadata": {},
   "outputs": [
    {
     "name": "stdout",
     "output_type": "stream",
     "text": [
      "10000/10000 [==============================] - 0s 32us/sample - loss: 0.3990 - accuracy: 0.8570\n"
     ]
    }
   ],
   "source": [
    "mse_test = model.evaluate(x_test, y_test)"
   ]
  },
  {
   "cell_type": "code",
   "execution_count": 22,
   "metadata": {},
   "outputs": [],
   "source": [
    "model = keras.models.Sequential([\n",
    "    keras.layers.Flatten(input_shape=[28, 28]),\n",
    "    keras.layers.BatchNormalization(),\n",
    "    keras.layers.Dense(300, kernel_initializer='he_normal', use_bias=False),\n",
    "    keras.layers.BatchNormalization(),\n",
    "    keras.layers.Activation('elu'),\n",
    "    keras.layers.Dense(100, kernel_initializer='he_normal', use_bias=False),\n",
    "    keras.layers.BatchNormalization(),\n",
    "    keras.layers.Activation('elu'),\n",
    "    keras.layers.Dense(10, activation='softmax')\n",
    "])"
   ]
  },
  {
   "cell_type": "code",
   "execution_count": 23,
   "metadata": {},
   "outputs": [],
   "source": [
    "model.compile(loss='sparse_categorical_crossentropy', \n",
    "             optimizer=keras.optimizers.SGD(lr=1e-3),\n",
    "             metrics=['accuracy'])"
   ]
  },
  {
   "cell_type": "code",
   "execution_count": 24,
   "metadata": {},
   "outputs": [
    {
     "name": "stdout",
     "output_type": "stream",
     "text": [
      "Train on 55000 samples, validate on 5000 samples\n",
      "Epoch 1/10\n",
      "55000/55000 [==============================] - 6s 111us/sample - loss: 0.8962 - accuracy: 0.7016 - val_loss: 0.6165 - val_accuracy: 0.7948\n",
      "Epoch 2/10\n",
      "55000/55000 [==============================] - 6s 101us/sample - loss: 0.6223 - accuracy: 0.7863 - val_loss: 0.5333 - val_accuracy: 0.8202\n",
      "Epoch 3/10\n",
      "55000/55000 [==============================] - 6s 100us/sample - loss: 0.5651 - accuracy: 0.8068 - val_loss: 0.4944 - val_accuracy: 0.8330\n",
      "Epoch 4/10\n",
      "55000/55000 [==============================] - 5s 96us/sample - loss: 0.5342 - accuracy: 0.8152 - val_loss: 0.4698 - val_accuracy: 0.8428\n",
      "Epoch 5/10\n",
      "55000/55000 [==============================] - 5s 94us/sample - loss: 0.5086 - accuracy: 0.8228 - val_loss: 0.4546 - val_accuracy: 0.8478\n",
      "Epoch 6/10\n",
      "55000/55000 [==============================] - 6s 103us/sample - loss: 0.4960 - accuracy: 0.8277 - val_loss: 0.4419 - val_accuracy: 0.8508\n",
      "Epoch 7/10\n",
      "55000/55000 [==============================] - 5s 99us/sample - loss: 0.4799 - accuracy: 0.8316 - val_loss: 0.4313 - val_accuracy: 0.8546\n",
      "Epoch 8/10\n",
      "55000/55000 [==============================] - 5s 98us/sample - loss: 0.4682 - accuracy: 0.8360 - val_loss: 0.4225 - val_accuracy: 0.8570\n",
      "Epoch 9/10\n",
      "55000/55000 [==============================] - 6s 104us/sample - loss: 0.4588 - accuracy: 0.8388 - val_loss: 0.4154 - val_accuracy: 0.8596\n",
      "Epoch 10/10\n",
      "55000/55000 [==============================] - 6s 101us/sample - loss: 0.4494 - accuracy: 0.8441 - val_loss: 0.4111 - val_accuracy: 0.8606\n"
     ]
    }
   ],
   "source": [
    "history = model.fit(x_train, y_train, epochs=10, validation_data=(x_valid, y_valid))"
   ]
  },
  {
   "cell_type": "code",
   "execution_count": 25,
   "metadata": {},
   "outputs": [
    {
     "name": "stdout",
     "output_type": "stream",
     "text": [
      "10000/10000 [==============================] - 0s 33us/sample - loss: 0.4515 - accuracy: 0.8381\n"
     ]
    }
   ],
   "source": [
    "mse_test = model.evaluate(x_test, y_test)"
   ]
  },
  {
   "cell_type": "code",
   "execution_count": 26,
   "metadata": {},
   "outputs": [],
   "source": [
    "model = keras.models.Sequential([\n",
    "    keras.layers.Flatten(input_shape=[28, 28]),\n",
    "    keras.layers.BatchNormalization(),\n",
    "    keras.layers.Dense(300, use_bias=False),\n",
    "    keras.layers.BatchNormalization(),\n",
    "    keras.layers.Activation('relu'),\n",
    "    keras.layers.Dense(100, use_bias=False),\n",
    "    keras.layers.BatchNormalization(),\n",
    "    keras.layers.Activation('relu'),\n",
    "    keras.layers.Dense(10, activation='softmax')\n",
    "])"
   ]
  },
  {
   "cell_type": "code",
   "execution_count": 27,
   "metadata": {},
   "outputs": [],
   "source": [
    "model.compile(loss='sparse_categorical_crossentropy',\n",
    "             optimizer=keras.optimizers.SGD(lr=1e-3),\n",
    "             metrics=['accuracy'])"
   ]
  },
  {
   "cell_type": "code",
   "execution_count": 28,
   "metadata": {},
   "outputs": [
    {
     "name": "stdout",
     "output_type": "stream",
     "text": [
      "Train on 55000 samples, validate on 5000 samples\n",
      "Epoch 1/10\n",
      "55000/55000 [==============================] - 6s 103us/sample - loss: 1.0214 - accuracy: 0.6848 - val_loss: 0.6579 - val_accuracy: 0.7900\n",
      "Epoch 2/10\n",
      "55000/55000 [==============================] - 5s 95us/sample - loss: 0.6595 - accuracy: 0.7874 - val_loss: 0.5467 - val_accuracy: 0.8188\n",
      "Epoch 3/10\n",
      "55000/55000 [==============================] - 5s 98us/sample - loss: 0.5820 - accuracy: 0.8055 - val_loss: 0.4972 - val_accuracy: 0.8328\n",
      "Epoch 4/10\n",
      "55000/55000 [==============================] - 5s 97us/sample - loss: 0.5378 - accuracy: 0.8194 - val_loss: 0.4657 - val_accuracy: 0.8438\n",
      "Epoch 5/10\n",
      "55000/55000 [==============================] - 5s 99us/sample - loss: 0.5071 - accuracy: 0.8266 - val_loss: 0.4433 - val_accuracy: 0.8472\n",
      "Epoch 6/10\n",
      "55000/55000 [==============================] - 5s 100us/sample - loss: 0.4882 - accuracy: 0.8319 - val_loss: 0.4265 - val_accuracy: 0.8522\n",
      "Epoch 7/10\n",
      "55000/55000 [==============================] - 5s 100us/sample - loss: 0.4701 - accuracy: 0.8383 - val_loss: 0.4133 - val_accuracy: 0.8566\n",
      "Epoch 8/10\n",
      "55000/55000 [==============================] - 5s 99us/sample - loss: 0.4543 - accuracy: 0.8434 - val_loss: 0.4030 - val_accuracy: 0.8578\n",
      "Epoch 9/10\n",
      "55000/55000 [==============================] - 6s 101us/sample - loss: 0.4409 - accuracy: 0.8471 - val_loss: 0.3939 - val_accuracy: 0.8630\n",
      "Epoch 10/10\n",
      "55000/55000 [==============================] - 5s 100us/sample - loss: 0.4303 - accuracy: 0.8522 - val_loss: 0.3871 - val_accuracy: 0.8652\n"
     ]
    }
   ],
   "source": [
    "history = model.fit(x_train, y_train, epochs=10, validation_data=(x_valid, y_valid))"
   ]
  },
  {
   "cell_type": "code",
   "execution_count": 29,
   "metadata": {},
   "outputs": [
    {
     "name": "stdout",
     "output_type": "stream",
     "text": [
      "10000/10000 [==============================] - 0s 33us/sample - loss: 0.4249 - accuracy: 0.8509\n"
     ]
    }
   ],
   "source": [
    "mse_test = model.evaluate(x_test, y_test)"
   ]
  },
  {
   "cell_type": "code",
   "execution_count": 31,
   "metadata": {},
   "outputs": [],
   "source": [
    "def split_dataset(x, y):\n",
    "    y_5_or_6 = (y == 5) | (y==6)\n",
    "    y_A = y[~y_5_or_6]\n",
    "    y_A[y_A > 6] -= 2\n",
    "    y_B = (y[y_5_or_6] == 6).astype(np.float32)\n",
    "    return ((x[~y_5_or_6], y_A), (x[y_5_or_6], y_B))"
   ]
  },
  {
   "cell_type": "code",
   "execution_count": 32,
   "metadata": {},
   "outputs": [],
   "source": [
    "(x_train_a, y_train_a), (x_train_b, y_train_b) = split_dataset(x_train, y_train)\n",
    "(x_valid_a, y_valid_a), (x_valid_b, y_valid_b) = split_dataset(x_valid, y_valid)\n",
    "(x_test_a, y_test_a), (x_test_b, y_test_b) = split_dataset(x_test, y_test)\n",
    "x_train_b = x_train_b[:200]\n",
    "y_train_b = y_train_b[:200]"
   ]
  },
  {
   "cell_type": "code",
   "execution_count": 33,
   "metadata": {},
   "outputs": [
    {
     "data": {
      "text/plain": [
       "(43986, 28, 28)"
      ]
     },
     "execution_count": 33,
     "metadata": {},
     "output_type": "execute_result"
    }
   ],
   "source": [
    "x_train_a.shape"
   ]
  },
  {
   "cell_type": "code",
   "execution_count": 34,
   "metadata": {},
   "outputs": [
    {
     "data": {
      "text/plain": [
       "(43986,)"
      ]
     },
     "execution_count": 34,
     "metadata": {},
     "output_type": "execute_result"
    }
   ],
   "source": [
    "y_train_a.shape"
   ]
  },
  {
   "cell_type": "code",
   "execution_count": 35,
   "metadata": {},
   "outputs": [
    {
     "data": {
      "text/plain": [
       "((200, 28, 28), (200,))"
      ]
     },
     "execution_count": 35,
     "metadata": {},
     "output_type": "execute_result"
    }
   ],
   "source": [
    "x_train_b.shape, y_train_b.shape"
   ]
  },
  {
   "cell_type": "code",
   "execution_count": 37,
   "metadata": {},
   "outputs": [
    {
     "data": {
      "text/plain": [
       "array([4, 0, 5, 7, 7, 7, 4, 4, 3, 4, 0, 1, 6, 3, 4, 3, 2, 6, 5, 3, 4, 5,\n",
       "       1, 3, 4, 2, 0, 6, 7, 1], dtype=uint8)"
      ]
     },
     "execution_count": 37,
     "metadata": {},
     "output_type": "execute_result"
    }
   ],
   "source": [
    "y_train_a[:30]"
   ]
  },
  {
   "cell_type": "code",
   "execution_count": 38,
   "metadata": {},
   "outputs": [
    {
     "data": {
      "text/plain": [
       "array([1., 1., 0., 0., 0., 0., 1., 1., 1., 0., 0., 1., 1., 0., 0., 0., 0.,\n",
       "       0., 0., 1., 1., 0., 0., 1., 1., 0., 1., 1., 1., 1.], dtype=float32)"
      ]
     },
     "execution_count": 38,
     "metadata": {},
     "output_type": "execute_result"
    }
   ],
   "source": [
    "y_train_b[:30]"
   ]
  },
  {
   "cell_type": "code",
   "execution_count": 39,
   "metadata": {},
   "outputs": [],
   "source": [
    "tf.random.set_seed(42)\n",
    "np.random.seed(42)"
   ]
  },
  {
   "cell_type": "code",
   "execution_count": 40,
   "metadata": {},
   "outputs": [],
   "source": [
    "model_A = keras.models.Sequential()\n",
    "model_A.add(keras.layers.Flatten(input_shape=[28, 28]))\n",
    "for n_hidden in (300, 100, 50, 50, 50):\n",
    "    model_A.add(keras.layers.Dense(n_hidden, activation='selu'))\n",
    "model_A.add(keras.layers.Dense(8, activation='softmax'))"
   ]
  },
  {
   "cell_type": "code",
   "execution_count": 41,
   "metadata": {},
   "outputs": [],
   "source": [
    "model_A.compile(loss='sparse_categorical_crossentropy', \n",
    "               optimizer=keras.optimizers.SGD(lr=1e-3),\n",
    "               metrics=['accuracy'])"
   ]
  },
  {
   "cell_type": "code",
   "execution_count": 42,
   "metadata": {},
   "outputs": [
    {
     "name": "stdout",
     "output_type": "stream",
     "text": [
      "Train on 43986 samples, validate on 4014 samples\n",
      "Epoch 1/20\n",
      "43986/43986 [==============================] - 3s 76us/sample - loss: 0.5902 - accuracy: 0.8131 - val_loss: 0.3784 - val_accuracy: 0.8692\n",
      "Epoch 2/20\n",
      "43986/43986 [==============================] - 3s 73us/sample - loss: 0.3517 - accuracy: 0.8784 - val_loss: 0.3369 - val_accuracy: 0.8832\n",
      "Epoch 3/20\n",
      "43986/43986 [==============================] - 3s 69us/sample - loss: 0.3163 - accuracy: 0.8896 - val_loss: 0.3017 - val_accuracy: 0.8959\n",
      "Epoch 4/20\n",
      "43986/43986 [==============================] - 3s 69us/sample - loss: 0.2969 - accuracy: 0.8972 - val_loss: 0.2912 - val_accuracy: 0.9028\n",
      "Epoch 5/20\n",
      "43986/43986 [==============================] - 3s 72us/sample - loss: 0.2831 - accuracy: 0.9027 - val_loss: 0.2816 - val_accuracy: 0.9018\n",
      "Epoch 6/20\n",
      "43986/43986 [==============================] - 3s 73us/sample - loss: 0.2725 - accuracy: 0.9066 - val_loss: 0.2737 - val_accuracy: 0.9071\n",
      "Epoch 7/20\n",
      "43986/43986 [==============================] - 3s 73us/sample - loss: 0.2644 - accuracy: 0.9095 - val_loss: 0.2652 - val_accuracy: 0.9091\n",
      "Epoch 8/20\n",
      "43986/43986 [==============================] - 3s 73us/sample - loss: 0.2577 - accuracy: 0.9119 - val_loss: 0.2580 - val_accuracy: 0.9126\n",
      "Epoch 9/20\n",
      "43986/43986 [==============================] - 3s 74us/sample - loss: 0.2516 - accuracy: 0.9137 - val_loss: 0.2582 - val_accuracy: 0.9136\n",
      "Epoch 10/20\n",
      "43986/43986 [==============================] - 3s 74us/sample - loss: 0.2466 - accuracy: 0.9153 - val_loss: 0.2522 - val_accuracy: 0.9153\n",
      "Epoch 11/20\n",
      "43986/43986 [==============================] - 3s 74us/sample - loss: 0.2420 - accuracy: 0.9178 - val_loss: 0.2489 - val_accuracy: 0.9168\n",
      "Epoch 12/20\n",
      "43986/43986 [==============================] - 3s 74us/sample - loss: 0.2381 - accuracy: 0.9192 - val_loss: 0.2457 - val_accuracy: 0.9175\n",
      "Epoch 13/20\n",
      "43986/43986 [==============================] - 3s 74us/sample - loss: 0.2347 - accuracy: 0.9197 - val_loss: 0.2449 - val_accuracy: 0.9198\n",
      "Epoch 14/20\n",
      "43986/43986 [==============================] - 3s 74us/sample - loss: 0.2312 - accuracy: 0.9206 - val_loss: 0.2431 - val_accuracy: 0.9170\n",
      "Epoch 15/20\n",
      "43986/43986 [==============================] - 3s 74us/sample - loss: 0.2282 - accuracy: 0.9219 - val_loss: 0.2430 - val_accuracy: 0.9180\n",
      "Epoch 16/20\n",
      "43986/43986 [==============================] - 3s 74us/sample - loss: 0.2255 - accuracy: 0.9229 - val_loss: 0.2411 - val_accuracy: 0.9150\n",
      "Epoch 17/20\n",
      "43986/43986 [==============================] - 3s 74us/sample - loss: 0.2228 - accuracy: 0.9229 - val_loss: 0.2370 - val_accuracy: 0.9178\n",
      "Epoch 18/20\n",
      "43986/43986 [==============================] - 3s 74us/sample - loss: 0.2202 - accuracy: 0.9242 - val_loss: 0.2433 - val_accuracy: 0.9170\n",
      "Epoch 19/20\n",
      "43986/43986 [==============================] - 3s 75us/sample - loss: 0.2177 - accuracy: 0.9252 - val_loss: 0.2605 - val_accuracy: 0.9043\n",
      "Epoch 20/20\n",
      "43986/43986 [==============================] - 3s 76us/sample - loss: 0.2158 - accuracy: 0.9265 - val_loss: 0.2328 - val_accuracy: 0.9205\n"
     ]
    }
   ],
   "source": [
    "history = model_A.fit(x_train_a, y_train_a, epochs=20, validation_data=(x_valid_a, y_valid_a))"
   ]
  },
  {
   "cell_type": "code",
   "execution_count": 43,
   "metadata": {},
   "outputs": [
    {
     "name": "stdout",
     "output_type": "stream",
     "text": [
      "8000/8000 [==============================] - 0s 40us/sample - loss: 0.2543 - accuracy: 0.9089\n"
     ]
    }
   ],
   "source": [
    "mse_test = model_A.evaluate(x_test_a, y_test_a)"
   ]
  },
  {
   "cell_type": "code",
   "execution_count": 44,
   "metadata": {},
   "outputs": [],
   "source": [
    "model_A.save('model_A.h5')"
   ]
  },
  {
   "cell_type": "code",
   "execution_count": 45,
   "metadata": {},
   "outputs": [],
   "source": [
    "model_B = keras.models.Sequential()\n",
    "model_B.add(keras.layers.Flatten(input_shape=[28, 28]))\n",
    "for n_hidden in (300, 100, 50, 50, 50):\n",
    "    model_B.add(keras.layers.Dense(n_hidden, activation='selu'))\n",
    "model_B.add(keras.layers.Dense(1, activation='sigmoid'))"
   ]
  },
  {
   "cell_type": "code",
   "execution_count": 46,
   "metadata": {},
   "outputs": [],
   "source": [
    "model_B.compile(loss='binary_crossentropy',\n",
    "               optimizer=keras.optimizers.SGD(lr=1e-3),\n",
    "               metrics=['accuracy'])"
   ]
  },
  {
   "cell_type": "code",
   "execution_count": 48,
   "metadata": {},
   "outputs": [
    {
     "name": "stdout",
     "output_type": "stream",
     "text": [
      "Train on 200 samples, validate on 986 samples\n",
      "Epoch 1/20\n",
      "200/200 [==============================] - 0s 2ms/sample - loss: 0.9509 - accuracy: 0.4800 - val_loss: 0.6533 - val_accuracy: 0.5568\n",
      "Epoch 2/20\n",
      "200/200 [==============================] - 0s 284us/sample - loss: 0.5837 - accuracy: 0.7100 - val_loss: 0.4825 - val_accuracy: 0.8479\n",
      "Epoch 3/20\n",
      "200/200 [==============================] - 0s 282us/sample - loss: 0.4527 - accuracy: 0.8750 - val_loss: 0.4097 - val_accuracy: 0.8945\n",
      "Epoch 4/20\n",
      "200/200 [==============================] - 0s 292us/sample - loss: 0.3869 - accuracy: 0.9050 - val_loss: 0.3630 - val_accuracy: 0.9209\n",
      "Epoch 5/20\n",
      "200/200 [==============================] - 0s 281us/sample - loss: 0.3404 - accuracy: 0.9300 - val_loss: 0.3302 - val_accuracy: 0.9280\n",
      "Epoch 6/20\n",
      "200/200 [==============================] - 0s 293us/sample - loss: 0.3073 - accuracy: 0.9350 - val_loss: 0.3026 - val_accuracy: 0.9381\n",
      "Epoch 7/20\n",
      "200/200 [==============================] - 0s 315us/sample - loss: 0.2797 - accuracy: 0.9400 - val_loss: 0.2790 - val_accuracy: 0.9452\n",
      "Epoch 8/20\n",
      "200/200 [==============================] - 0s 296us/sample - loss: 0.2554 - accuracy: 0.9450 - val_loss: 0.2595 - val_accuracy: 0.9473\n",
      "Epoch 9/20\n",
      "200/200 [==============================] - 0s 273us/sample - loss: 0.2355 - accuracy: 0.9600 - val_loss: 0.2439 - val_accuracy: 0.9493\n",
      "Epoch 10/20\n",
      "200/200 [==============================] - 0s 280us/sample - loss: 0.2187 - accuracy: 0.9650 - val_loss: 0.2293 - val_accuracy: 0.9523\n",
      "Epoch 11/20\n",
      "200/200 [==============================] - 0s 278us/sample - loss: 0.2041 - accuracy: 0.9650 - val_loss: 0.2162 - val_accuracy: 0.9544\n",
      "Epoch 12/20\n",
      "200/200 [==============================] - 0s 273us/sample - loss: 0.1906 - accuracy: 0.9650 - val_loss: 0.2049 - val_accuracy: 0.9574\n",
      "Epoch 13/20\n",
      "200/200 [==============================] - 0s 269us/sample - loss: 0.1791 - accuracy: 0.9700 - val_loss: 0.1946 - val_accuracy: 0.9594\n",
      "Epoch 14/20\n",
      "200/200 [==============================] - 0s 322us/sample - loss: 0.1686 - accuracy: 0.9750 - val_loss: 0.1856 - val_accuracy: 0.9615\n",
      "Epoch 15/20\n",
      "200/200 [==============================] - 0s 340us/sample - loss: 0.1591 - accuracy: 0.9750 - val_loss: 0.1765 - val_accuracy: 0.9655\n",
      "Epoch 16/20\n",
      "200/200 [==============================] - 0s 353us/sample - loss: 0.1502 - accuracy: 0.9900 - val_loss: 0.1695 - val_accuracy: 0.9655\n",
      "Epoch 17/20\n",
      "200/200 [==============================] - 0s 345us/sample - loss: 0.1424 - accuracy: 0.9900 - val_loss: 0.1624 - val_accuracy: 0.9686\n",
      "Epoch 18/20\n",
      "200/200 [==============================] - 0s 351us/sample - loss: 0.1351 - accuracy: 0.9900 - val_loss: 0.1567 - val_accuracy: 0.9686\n",
      "Epoch 19/20\n",
      "200/200 [==============================] - 0s 346us/sample - loss: 0.1290 - accuracy: 0.9900 - val_loss: 0.1513 - val_accuracy: 0.9696\n",
      "Epoch 20/20\n",
      "200/200 [==============================] - 0s 350us/sample - loss: 0.1229 - accuracy: 0.9900 - val_loss: 0.1450 - val_accuracy: 0.9696\n"
     ]
    }
   ],
   "source": [
    "history = model_B.fit(x_train_b, y_train_b, epochs=20, validation_data=(x_valid_b, y_valid_b))"
   ]
  },
  {
   "cell_type": "code",
   "execution_count": 49,
   "metadata": {},
   "outputs": [
    {
     "name": "stdout",
     "output_type": "stream",
     "text": [
      "2000/2000 [==============================] - 0s 38us/sample - loss: 0.1426 - accuracy: 0.9695\n"
     ]
    }
   ],
   "source": [
    "mse_test = model_B.evaluate(x_test_b, y_test_b)"
   ]
  },
  {
   "cell_type": "code",
   "execution_count": 50,
   "metadata": {},
   "outputs": [
    {
     "name": "stdout",
     "output_type": "stream",
     "text": [
      "Model: \"sequential_4\"\n",
      "_________________________________________________________________\n",
      "Layer (type)                 Output Shape              Param #   \n",
      "=================================================================\n",
      "flatten_7 (Flatten)          (None, 784)               0         \n",
      "_________________________________________________________________\n",
      "dense_16 (Dense)             (None, 300)               235500    \n",
      "_________________________________________________________________\n",
      "dense_17 (Dense)             (None, 100)               30100     \n",
      "_________________________________________________________________\n",
      "dense_18 (Dense)             (None, 50)                5050      \n",
      "_________________________________________________________________\n",
      "dense_19 (Dense)             (None, 50)                2550      \n",
      "_________________________________________________________________\n",
      "dense_20 (Dense)             (None, 50)                2550      \n",
      "_________________________________________________________________\n",
      "dense_21 (Dense)             (None, 8)                 408       \n",
      "=================================================================\n",
      "Total params: 276,158\n",
      "Trainable params: 276,158\n",
      "Non-trainable params: 0\n",
      "_________________________________________________________________\n"
     ]
    }
   ],
   "source": [
    "model_A.summary()"
   ]
  },
  {
   "cell_type": "code",
   "execution_count": 51,
   "metadata": {},
   "outputs": [
    {
     "name": "stdout",
     "output_type": "stream",
     "text": [
      "Model: \"sequential_5\"\n",
      "_________________________________________________________________\n",
      "Layer (type)                 Output Shape              Param #   \n",
      "=================================================================\n",
      "flatten_8 (Flatten)          (None, 784)               0         \n",
      "_________________________________________________________________\n",
      "dense_22 (Dense)             (None, 300)               235500    \n",
      "_________________________________________________________________\n",
      "dense_23 (Dense)             (None, 100)               30100     \n",
      "_________________________________________________________________\n",
      "dense_24 (Dense)             (None, 50)                5050      \n",
      "_________________________________________________________________\n",
      "dense_25 (Dense)             (None, 50)                2550      \n",
      "_________________________________________________________________\n",
      "dense_26 (Dense)             (None, 50)                2550      \n",
      "_________________________________________________________________\n",
      "dense_27 (Dense)             (None, 1)                 51        \n",
      "=================================================================\n",
      "Total params: 275,801\n",
      "Trainable params: 275,801\n",
      "Non-trainable params: 0\n",
      "_________________________________________________________________\n"
     ]
    }
   ],
   "source": [
    "model_B.summary()"
   ]
  },
  {
   "cell_type": "code",
   "execution_count": 52,
   "metadata": {},
   "outputs": [],
   "source": [
    "model_A = keras.models.load_model('model_A.h5')"
   ]
  },
  {
   "cell_type": "code",
   "execution_count": 53,
   "metadata": {},
   "outputs": [],
   "source": [
    "model_B_on_A = keras.models.Sequential(model_A.layers[:-1])\n",
    "model_B_on_A.add(keras.layers.Dense(1, activation='sigmoid'))"
   ]
  },
  {
   "cell_type": "code",
   "execution_count": 54,
   "metadata": {},
   "outputs": [],
   "source": [
    "model_A_clone = keras.models.clone_model(model_A)\n",
    "model_A_clone.set_weights(model_A.get_weights())"
   ]
  },
  {
   "cell_type": "code",
   "execution_count": 55,
   "metadata": {},
   "outputs": [],
   "source": [
    "for layer in model_B_on_A.layers[:-1]:\n",
    "    layer.trainable = False"
   ]
  },
  {
   "cell_type": "code",
   "execution_count": 56,
   "metadata": {},
   "outputs": [],
   "source": [
    "model_B_on_A.compile(loss='binary_crossentropy',\n",
    "                    optimizer=keras.optimizers.SGD(lr=1e-3),\n",
    "                    metrics=['accuracy'])"
   ]
  },
  {
   "cell_type": "code",
   "execution_count": 58,
   "metadata": {},
   "outputs": [
    {
     "name": "stdout",
     "output_type": "stream",
     "text": [
      "Train on 200 samples, validate on 986 samples\n",
      "Epoch 1/4\n",
      "200/200 [==============================] - 0s 2ms/sample - loss: 0.5619 - accuracy: 0.6650 - val_loss: 0.5669 - val_accuracy: 0.6531\n",
      "Epoch 2/4\n",
      "200/200 [==============================] - 0s 241us/sample - loss: 0.5249 - accuracy: 0.7200 - val_loss: 0.5337 - val_accuracy: 0.6957\n",
      "Epoch 3/4\n",
      "200/200 [==============================] - 0s 247us/sample - loss: 0.4923 - accuracy: 0.7400 - val_loss: 0.5039 - val_accuracy: 0.7211\n",
      "Epoch 4/4\n",
      "200/200 [==============================] - 0s 233us/sample - loss: 0.4630 - accuracy: 0.7550 - val_loss: 0.4773 - val_accuracy: 0.7383\n",
      "Train on 200 samples, validate on 986 samples\n",
      "Epoch 1/20\n",
      "200/200 [==============================] - 0s 2ms/sample - loss: 0.4398 - accuracy: 0.7750 - val_loss: 0.4587 - val_accuracy: 0.7617\n",
      "Epoch 2/20\n",
      "200/200 [==============================] - 0s 298us/sample - loss: 0.4209 - accuracy: 0.8100 - val_loss: 0.4416 - val_accuracy: 0.7718\n",
      "Epoch 3/20\n",
      "200/200 [==============================] - 0s 368us/sample - loss: 0.4038 - accuracy: 0.8200 - val_loss: 0.4260 - val_accuracy: 0.7870\n",
      "Epoch 4/20\n",
      "200/200 [==============================] - 0s 363us/sample - loss: 0.3882 - accuracy: 0.8300 - val_loss: 0.4119 - val_accuracy: 0.7982\n",
      "Epoch 5/20\n",
      "200/200 [==============================] - 0s 384us/sample - loss: 0.3741 - accuracy: 0.8400 - val_loss: 0.3978 - val_accuracy: 0.8063\n",
      "Epoch 6/20\n",
      "200/200 [==============================] - 0s 305us/sample - loss: 0.3599 - accuracy: 0.8450 - val_loss: 0.3841 - val_accuracy: 0.8245\n",
      "Epoch 7/20\n",
      "200/200 [==============================] - 0s 279us/sample - loss: 0.3463 - accuracy: 0.8550 - val_loss: 0.3722 - val_accuracy: 0.8306\n",
      "Epoch 8/20\n",
      "200/200 [==============================] - 0s 268us/sample - loss: 0.3344 - accuracy: 0.8700 - val_loss: 0.3608 - val_accuracy: 0.8509\n",
      "Epoch 9/20\n",
      "200/200 [==============================] - 0s 265us/sample - loss: 0.3229 - accuracy: 0.8900 - val_loss: 0.3500 - val_accuracy: 0.8590\n",
      "Epoch 10/20\n",
      "200/200 [==============================] - 0s 270us/sample - loss: 0.3121 - accuracy: 0.9000 - val_loss: 0.3399 - val_accuracy: 0.8671\n",
      "Epoch 11/20\n",
      "200/200 [==============================] - 0s 286us/sample - loss: 0.3023 - accuracy: 0.9100 - val_loss: 0.3304 - val_accuracy: 0.8702\n",
      "Epoch 12/20\n",
      "200/200 [==============================] - 0s 272us/sample - loss: 0.2928 - accuracy: 0.9150 - val_loss: 0.3214 - val_accuracy: 0.8773\n",
      "Epoch 13/20\n",
      "200/200 [==============================] - 0s 273us/sample - loss: 0.2840 - accuracy: 0.9250 - val_loss: 0.3128 - val_accuracy: 0.8864\n",
      "Epoch 14/20\n",
      "200/200 [==============================] - 0s 282us/sample - loss: 0.2754 - accuracy: 0.9400 - val_loss: 0.3043 - val_accuracy: 0.8874\n",
      "Epoch 15/20\n",
      "200/200 [==============================] - 0s 281us/sample - loss: 0.2672 - accuracy: 0.9400 - val_loss: 0.2963 - val_accuracy: 0.8966\n",
      "Epoch 16/20\n",
      "200/200 [==============================] - 0s 314us/sample - loss: 0.2594 - accuracy: 0.9400 - val_loss: 0.2891 - val_accuracy: 0.8986\n",
      "Epoch 17/20\n",
      "200/200 [==============================] - 0s 309us/sample - loss: 0.2522 - accuracy: 0.9450 - val_loss: 0.2821 - val_accuracy: 0.9057\n",
      "Epoch 18/20\n",
      "200/200 [==============================] - 0s 308us/sample - loss: 0.2454 - accuracy: 0.9500 - val_loss: 0.2758 - val_accuracy: 0.9087\n",
      "Epoch 19/20\n",
      "200/200 [==============================] - 0s 295us/sample - loss: 0.2393 - accuracy: 0.9500 - val_loss: 0.2696 - val_accuracy: 0.9138\n",
      "Epoch 20/20\n",
      "200/200 [==============================] - 0s 278us/sample - loss: 0.2333 - accuracy: 0.9500 - val_loss: 0.2633 - val_accuracy: 0.9229\n"
     ]
    }
   ],
   "source": [
    "history = model_B_on_A.fit(x_train_b, y_train_b, epochs=4, validation_data=(x_valid_b, y_valid_b))\n",
    "for layer in model_B_on_A.layers[:-1]:\n",
    "    layer.trainable=True\n",
    "model_B_on_A.compile(loss='binary_crossentropy',\n",
    "                    optimizer=keras.optimizers.SGD(lr=1e-4),\n",
    "                    metrics=['accuracy'])\n",
    "history = model_B_on_A.fit(x_train_b, y_train_b, epochs=20, validation_data=(x_valid_b, y_valid_b))"
   ]
  },
  {
   "cell_type": "code",
   "execution_count": 59,
   "metadata": {},
   "outputs": [
    {
     "name": "stdout",
     "output_type": "stream",
     "text": [
      "2000/2000 [==============================] - 0s 41us/sample - loss: 0.2627 - accuracy: 0.9230\n"
     ]
    },
    {
     "data": {
      "text/plain": [
       "[0.2627152454853058, 0.923]"
      ]
     },
     "execution_count": 59,
     "metadata": {},
     "output_type": "execute_result"
    }
   ],
   "source": [
    "model_B_on_A.evaluate(x_test_b, y_test_b)"
   ]
  },
  {
   "cell_type": "code",
   "execution_count": 60,
   "metadata": {},
   "outputs": [
    {
     "name": "stdout",
     "output_type": "stream",
     "text": [
      "Train on 200 samples, validate on 986 samples\n",
      "Epoch 1/4\n",
      "200/200 [==============================] - 0s 312us/sample - loss: 0.2272 - accuracy: 0.9550 - val_loss: 0.2575 - val_accuracy: 0.9270\n",
      "Epoch 2/4\n",
      "200/200 [==============================] - 0s 289us/sample - loss: 0.2216 - accuracy: 0.9550 - val_loss: 0.2521 - val_accuracy: 0.9290\n",
      "Epoch 3/4\n",
      "200/200 [==============================] - 0s 282us/sample - loss: 0.2164 - accuracy: 0.9600 - val_loss: 0.2470 - val_accuracy: 0.9341\n",
      "Epoch 4/4\n",
      "200/200 [==============================] - 0s 274us/sample - loss: 0.2115 - accuracy: 0.9600 - val_loss: 0.2422 - val_accuracy: 0.9371\n",
      "Train on 200 samples, validate on 986 samples\n",
      "Epoch 1/20\n",
      "200/200 [==============================] - 0s 2ms/sample - loss: 0.1926 - accuracy: 0.9700 - val_loss: 0.2015 - val_accuracy: 0.9564\n",
      "Epoch 2/20\n",
      "200/200 [==============================] - 0s 376us/sample - loss: 0.1577 - accuracy: 0.9800 - val_loss: 0.1736 - val_accuracy: 0.9665\n",
      "Epoch 3/20\n",
      "200/200 [==============================] - 0s 298us/sample - loss: 0.1337 - accuracy: 0.9800 - val_loss: 0.1533 - val_accuracy: 0.9757\n",
      "Epoch 4/20\n",
      "200/200 [==============================] - 0s 278us/sample - loss: 0.1162 - accuracy: 0.9900 - val_loss: 0.1380 - val_accuracy: 0.9797\n",
      "Epoch 5/20\n",
      "200/200 [==============================] - 0s 289us/sample - loss: 0.1029 - accuracy: 0.9950 - val_loss: 0.1253 - val_accuracy: 0.9838\n",
      "Epoch 6/20\n",
      "200/200 [==============================] - 0s 283us/sample - loss: 0.0917 - accuracy: 0.9950 - val_loss: 0.1151 - val_accuracy: 0.9848\n",
      "Epoch 7/20\n",
      "200/200 [==============================] - 0s 273us/sample - loss: 0.0828 - accuracy: 1.0000 - val_loss: 0.1072 - val_accuracy: 0.9858\n",
      "Epoch 8/20\n",
      "200/200 [==============================] - 0s 277us/sample - loss: 0.0758 - accuracy: 1.0000 - val_loss: 0.1003 - val_accuracy: 0.9878\n",
      "Epoch 9/20\n",
      "200/200 [==============================] - 0s 295us/sample - loss: 0.0698 - accuracy: 1.0000 - val_loss: 0.0945 - val_accuracy: 0.9888\n",
      "Epoch 10/20\n",
      "200/200 [==============================] - 0s 281us/sample - loss: 0.0647 - accuracy: 1.0000 - val_loss: 0.0895 - val_accuracy: 0.9888\n",
      "Epoch 11/20\n",
      "200/200 [==============================] - 0s 287us/sample - loss: 0.0604 - accuracy: 1.0000 - val_loss: 0.0851 - val_accuracy: 0.9899\n",
      "Epoch 12/20\n",
      "200/200 [==============================] - 0s 297us/sample - loss: 0.0565 - accuracy: 1.0000 - val_loss: 0.0809 - val_accuracy: 0.9899\n",
      "Epoch 13/20\n",
      "200/200 [==============================] - 0s 282us/sample - loss: 0.0529 - accuracy: 1.0000 - val_loss: 0.0776 - val_accuracy: 0.9899\n",
      "Epoch 14/20\n",
      "200/200 [==============================] - 0s 299us/sample - loss: 0.0499 - accuracy: 1.0000 - val_loss: 0.0743 - val_accuracy: 0.9899\n",
      "Epoch 15/20\n",
      "200/200 [==============================] - 0s 304us/sample - loss: 0.0471 - accuracy: 1.0000 - val_loss: 0.0715 - val_accuracy: 0.9899\n",
      "Epoch 16/20\n",
      "200/200 [==============================] - 0s 310us/sample - loss: 0.0445 - accuracy: 1.0000 - val_loss: 0.0691 - val_accuracy: 0.9899\n",
      "Epoch 17/20\n",
      "200/200 [==============================] - 0s 301us/sample - loss: 0.0424 - accuracy: 1.0000 - val_loss: 0.0669 - val_accuracy: 0.9899\n",
      "Epoch 18/20\n",
      "200/200 [==============================] - 0s 287us/sample - loss: 0.0404 - accuracy: 1.0000 - val_loss: 0.0650 - val_accuracy: 0.9899\n",
      "Epoch 19/20\n",
      "200/200 [==============================] - 0s 272us/sample - loss: 0.0387 - accuracy: 1.0000 - val_loss: 0.0632 - val_accuracy: 0.9899\n",
      "Epoch 20/20\n",
      "200/200 [==============================] - 0s 274us/sample - loss: 0.0371 - accuracy: 1.0000 - val_loss: 0.0614 - val_accuracy: 0.9899\n"
     ]
    }
   ],
   "source": [
    "history = model_B_on_A.fit(x_train_b, y_train_b, epochs=4, validation_data=(x_valid_b, y_valid_b))\n",
    "for layer in model_B_on_A.layers[:-1]:\n",
    "    layer.trainable=True\n",
    "model_B_on_A.compile(loss='binary_crossentropy',\n",
    "                    optimizer=keras.optimizers.SGD(lr=1e-3),\n",
    "                    metrics=['accuracy'])\n",
    "history = model_B_on_A.fit(x_train_b, y_train_b, epochs=20, validation_data=(x_valid_b, y_valid_b))"
   ]
  },
  {
   "cell_type": "code",
   "execution_count": 61,
   "metadata": {},
   "outputs": [
    {
     "name": "stdout",
     "output_type": "stream",
     "text": [
      "2000/2000 [==============================] - 0s 40us/sample - loss: 0.0549 - accuracy: 0.9945\n"
     ]
    },
    {
     "data": {
      "text/plain": [
       "[0.054912917613983155, 0.9945]"
      ]
     },
     "execution_count": 61,
     "metadata": {},
     "output_type": "execute_result"
    }
   ],
   "source": [
    "model_B_on_A.evaluate(x_test_b, y_test_b)"
   ]
  },
  {
   "cell_type": "code",
   "execution_count": 62,
   "metadata": {},
   "outputs": [
    {
     "name": "stdout",
     "output_type": "stream",
     "text": [
      "2000/2000 [==============================] - 0s 38us/sample - loss: 0.1426 - accuracy: 0.9695\n"
     ]
    },
    {
     "data": {
      "text/plain": [
       "[0.14263125681877137, 0.9695]"
      ]
     },
     "execution_count": 62,
     "metadata": {},
     "output_type": "execute_result"
    }
   ],
   "source": [
    "model_B.evaluate(x_test_b, y_test_b)"
   ]
  },
  {
   "cell_type": "code",
   "execution_count": 68,
   "metadata": {},
   "outputs": [],
   "source": [
    "optimizer = keras.optimizers.SGD(lr=0.01, decay=1e-4)"
   ]
  },
  {
   "cell_type": "code",
   "execution_count": 69,
   "metadata": {},
   "outputs": [],
   "source": [
    "model = keras.models.Sequential([\n",
    "    keras.layers.Flatten(input_shape=[28, 28]),\n",
    "    keras.layers.Dense(300, activation='selu', kernel_initializer='lecun_normal'),\n",
    "    keras.layers.Dense(100, activation='selu', kernel_initializer='lecun_normal'),\n",
    "    keras.layers.Dense(10, activation='softmax')\n",
    "])"
   ]
  },
  {
   "cell_type": "code",
   "execution_count": 70,
   "metadata": {},
   "outputs": [
    {
     "name": "stdout",
     "output_type": "stream",
     "text": [
      "Train on 55000 samples, validate on 5000 samples\n",
      "Epoch 1/25\n",
      "55000/55000 [==============================] - 4s 78us/sample - loss: 0.5867 - accuracy: 0.7977 - val_loss: 0.4657 - val_accuracy: 0.8388\n",
      "Epoch 2/25\n",
      "55000/55000 [==============================] - 4s 73us/sample - loss: 0.4516 - accuracy: 0.8394 - val_loss: 0.4341 - val_accuracy: 0.8516\n",
      "Epoch 3/25\n",
      "55000/55000 [==============================] - 4s 72us/sample - loss: 0.4230 - accuracy: 0.8501 - val_loss: 0.4120 - val_accuracy: 0.8606\n",
      "Epoch 4/25\n",
      "55000/55000 [==============================] - 4s 73us/sample - loss: 0.4043 - accuracy: 0.8564 - val_loss: 0.4089 - val_accuracy: 0.8610\n",
      "Epoch 5/25\n",
      "55000/55000 [==============================] - 4s 74us/sample - loss: 0.3914 - accuracy: 0.8612 - val_loss: 0.3883 - val_accuracy: 0.8662\n",
      "Epoch 6/25\n",
      "55000/55000 [==============================] - 4s 75us/sample - loss: 0.3819 - accuracy: 0.8642 - val_loss: 0.3843 - val_accuracy: 0.8676\n",
      "Epoch 7/25\n",
      "55000/55000 [==============================] - 4s 75us/sample - loss: 0.3734 - accuracy: 0.8681 - val_loss: 0.3778 - val_accuracy: 0.8708\n",
      "Epoch 8/25\n",
      "55000/55000 [==============================] - 4s 75us/sample - loss: 0.3673 - accuracy: 0.8701 - val_loss: 0.3804 - val_accuracy: 0.8650\n",
      "Epoch 9/25\n",
      "55000/55000 [==============================] - 4s 75us/sample - loss: 0.3618 - accuracy: 0.8719 - val_loss: 0.3638 - val_accuracy: 0.8716\n",
      "Epoch 10/25\n",
      "55000/55000 [==============================] - 4s 75us/sample - loss: 0.3567 - accuracy: 0.8740 - val_loss: 0.3650 - val_accuracy: 0.8710\n",
      "Epoch 11/25\n",
      "55000/55000 [==============================] - 4s 75us/sample - loss: 0.3520 - accuracy: 0.8753 - val_loss: 0.3590 - val_accuracy: 0.8734\n",
      "Epoch 12/25\n",
      "55000/55000 [==============================] - 4s 75us/sample - loss: 0.3481 - accuracy: 0.8770 - val_loss: 0.3594 - val_accuracy: 0.8718\n",
      "Epoch 13/25\n",
      "55000/55000 [==============================] - 4s 75us/sample - loss: 0.3438 - accuracy: 0.8773 - val_loss: 0.3578 - val_accuracy: 0.8728\n",
      "Epoch 14/25\n",
      "55000/55000 [==============================] - 4s 76us/sample - loss: 0.3409 - accuracy: 0.8794 - val_loss: 0.3559 - val_accuracy: 0.8752\n",
      "Epoch 15/25\n",
      "55000/55000 [==============================] - 4s 77us/sample - loss: 0.3379 - accuracy: 0.8799 - val_loss: 0.3523 - val_accuracy: 0.8742\n",
      "Epoch 16/25\n",
      "55000/55000 [==============================] - 4s 77us/sample - loss: 0.3356 - accuracy: 0.8814 - val_loss: 0.3537 - val_accuracy: 0.8762\n",
      "Epoch 17/25\n",
      "55000/55000 [==============================] - 4s 76us/sample - loss: 0.3325 - accuracy: 0.8829 - val_loss: 0.3507 - val_accuracy: 0.8774\n",
      "Epoch 18/25\n",
      "55000/55000 [==============================] - 4s 76us/sample - loss: 0.3302 - accuracy: 0.8826 - val_loss: 0.3483 - val_accuracy: 0.8772\n",
      "Epoch 19/25\n",
      "55000/55000 [==============================] - 4s 77us/sample - loss: 0.3280 - accuracy: 0.8838 - val_loss: 0.3515 - val_accuracy: 0.8732\n",
      "Epoch 20/25\n",
      "55000/55000 [==============================] - 4s 77us/sample - loss: 0.3258 - accuracy: 0.8848 - val_loss: 0.3476 - val_accuracy: 0.8712\n",
      "Epoch 21/25\n",
      "55000/55000 [==============================] - 4s 76us/sample - loss: 0.3243 - accuracy: 0.8847 - val_loss: 0.3470 - val_accuracy: 0.8752\n",
      "Epoch 22/25\n",
      "55000/55000 [==============================] - 4s 79us/sample - loss: 0.3216 - accuracy: 0.8864 - val_loss: 0.3497 - val_accuracy: 0.8748\n",
      "Epoch 23/25\n",
      "55000/55000 [==============================] - 4s 77us/sample - loss: 0.3200 - accuracy: 0.8873 - val_loss: 0.3427 - val_accuracy: 0.8794\n",
      "Epoch 24/25\n",
      "55000/55000 [==============================] - 4s 77us/sample - loss: 0.3185 - accuracy: 0.8868 - val_loss: 0.3416 - val_accuracy: 0.8778\n",
      "Epoch 25/25\n",
      "55000/55000 [==============================] - 4s 77us/sample - loss: 0.3168 - accuracy: 0.8877 - val_loss: 0.3457 - val_accuracy: 0.8758\n"
     ]
    }
   ],
   "source": [
    "n_epochs=25\n",
    "model.compile(loss='sparse_categorical_crossentropy',\n",
    "             optimizer=optimizer,\n",
    "             metrics=['accuracy'])\n",
    "history = model.fit(x_train, y_train, epochs=n_epochs, validation_data=(x_valid, y_valid))"
   ]
  },
  {
   "cell_type": "code",
   "execution_count": 71,
   "metadata": {},
   "outputs": [],
   "source": [
    "learning_rate = 0.01\n",
    "decay = 1e-4\n",
    "batch_size = 32\n",
    "n_steps_per_epoch = len(x_train) // batch_size\n",
    "epochs = np.arange(n_epochs)\n",
    "lrs = learning_rate / (1 + decay*epochs*n_steps_per_epoch)"
   ]
  },
  {
   "cell_type": "code",
   "execution_count": 72,
   "metadata": {},
   "outputs": [
    {
     "data": {
      "image/png": "[encoded data removed]",
      "text/plain": [
       "<Figure size 432x288 with 1 Axes>"
      ]
     },
     "metadata": {
      "needs_background": "light"
     },
     "output_type": "display_data"
    }
   ],
   "source": [
    "plt.plot(epochs, lrs, 'o-')\n",
    "plt.axis([0, n_epochs, 0, 0.01])\n",
    "plt.xlabel('Epochs')\n",
    "plt.ylabel('Learning Rate')\n",
    "plt.grid(True)\n",
    "plt.title('Power Scheduling')\n",
    "plt.show()"
   ]
  },
  {
   "cell_type": "code",
   "execution_count": 73,
   "metadata": {},
   "outputs": [],
   "source": [
    "def exponential_decay_fn(epoch):\n",
    "    return 0.01 * 0.1 ** (epoch/20)"
   ]
  },
  {
   "cell_type": "code",
   "execution_count": 74,
   "metadata": {},
   "outputs": [],
   "source": [
    "def exponential_decay(lr0, s):\n",
    "    def exponential_decary_fn(epoch):\n",
    "        return lr0*0.1**(epoch/s)\n",
    "    return exponential_decay_fn"
   ]
  },
  {
   "cell_type": "code",
   "execution_count": 75,
   "metadata": {},
   "outputs": [],
   "source": [
    "exponential_decay_fn = exponential_decay(lr0=0.01, s=20)"
   ]
  },
  {
   "cell_type": "code",
   "execution_count": 76,
   "metadata": {},
   "outputs": [],
   "source": [
    "model = keras.models.Sequential([\n",
    "    keras.layers.Flatten(input_shape=[28, 28]),\n",
    "    keras.layers.Dense(300, activation='selu', kernel_initializer='lecun_normal'),\n",
    "    keras.layers.Dense(100, activation='selu', kernel_initializer='lecun_normal'),\n",
    "    keras.layers.Dense(10, activation='softmax')\n",
    "])"
   ]
  },
  {
   "cell_type": "code",
   "execution_count": 79,
   "metadata": {},
   "outputs": [],
   "source": [
    "model.compile(loss='sparse_categorical_crossentropy',\n",
    "             optimizer='nadam',\n",
    "             metrics=['accuracy'])"
   ]
  },
  {
   "cell_type": "code",
   "execution_count": 81,
   "metadata": {},
   "outputs": [
    {
     "name": "stdout",
     "output_type": "stream",
     "text": [
      "Train on 55000 samples, validate on 5000 samples\n",
      "Epoch 1/25\n",
      "55000/55000 [==============================] - 9s 162us/sample - loss: 0.7292 - accuracy: 0.7650 - val_loss: 0.5569 - val_accuracy: 0.8160\n",
      "Epoch 2/25\n",
      "55000/55000 [==============================] - 9s 158us/sample - loss: 0.5077 - accuracy: 0.8265 - val_loss: 0.4728 - val_accuracy: 0.8440\n",
      "Epoch 3/25\n",
      "55000/55000 [==============================] - 8s 142us/sample - loss: 0.4538 - accuracy: 0.8435 - val_loss: 0.5142 - val_accuracy: 0.8372\n",
      "Epoch 4/25\n",
      "55000/55000 [==============================] - 8s 152us/sample - loss: 0.4063 - accuracy: 0.8609 - val_loss: 0.4588 - val_accuracy: 0.8624\n",
      "Epoch 5/25\n",
      "55000/55000 [==============================] - 9s 157us/sample - loss: 0.3763 - accuracy: 0.8698 - val_loss: 0.4010 - val_accuracy: 0.8728\n",
      "Epoch 6/25\n",
      "55000/55000 [==============================] - 9s 165us/sample - loss: 0.3564 - accuracy: 0.8765 - val_loss: 0.4334 - val_accuracy: 0.8618\n",
      "Epoch 7/25\n",
      "55000/55000 [==============================] - 9s 165us/sample - loss: 0.3291 - accuracy: 0.8846 - val_loss: 0.4560 - val_accuracy: 0.8566\n",
      "Epoch 8/25\n",
      "55000/55000 [==============================] - 9s 161us/sample - loss: 0.3140 - accuracy: 0.8899 - val_loss: 0.3640 - val_accuracy: 0.8782\n",
      "Epoch 9/25\n",
      "55000/55000 [==============================] - 8s 151us/sample - loss: 0.2945 - accuracy: 0.8955 - val_loss: 0.3488 - val_accuracy: 0.8860\n",
      "Epoch 10/25\n",
      "55000/55000 [==============================] - 8s 149us/sample - loss: 0.2791 - accuracy: 0.8999 - val_loss: 0.3434 - val_accuracy: 0.8872\n",
      "Epoch 11/25\n",
      "55000/55000 [==============================] - 8s 150us/sample - loss: 0.2662 - accuracy: 0.9039 - val_loss: 0.3475 - val_accuracy: 0.8932\n",
      "Epoch 12/25\n",
      "55000/55000 [==============================] - 8s 144us/sample - loss: 0.2534 - accuracy: 0.9083 - val_loss: 0.3565 - val_accuracy: 0.8896\n",
      "Epoch 13/25\n",
      "55000/55000 [==============================] - 8s 145us/sample - loss: 0.2393 - accuracy: 0.9126 - val_loss: 0.3691 - val_accuracy: 0.8864\n",
      "Epoch 14/25\n",
      "55000/55000 [==============================] - 8s 145us/sample - loss: 0.2288 - accuracy: 0.9173 - val_loss: 0.3486 - val_accuracy: 0.8966\n",
      "Epoch 15/25\n",
      "55000/55000 [==============================] - 8s 142us/sample - loss: 0.2186 - accuracy: 0.9198 - val_loss: 0.3854 - val_accuracy: 0.8844\n",
      "Epoch 16/25\n",
      "55000/55000 [==============================] - 8s 138us/sample - loss: 0.2089 - accuracy: 0.9232 - val_loss: 0.3800 - val_accuracy: 0.8870\n",
      "Epoch 17/25\n",
      "55000/55000 [==============================] - 8s 138us/sample - loss: 0.1990 - accuracy: 0.9262 - val_loss: 0.3654 - val_accuracy: 0.8962\n",
      "Epoch 18/25\n",
      "55000/55000 [==============================] - 8s 139us/sample - loss: 0.1894 - accuracy: 0.9298 - val_loss: 0.3665 - val_accuracy: 0.8966\n",
      "Epoch 19/25\n",
      "55000/55000 [==============================] - 8s 139us/sample - loss: 0.1838 - accuracy: 0.9319 - val_loss: 0.3701 - val_accuracy: 0.8928\n",
      "Epoch 20/25\n",
      "55000/55000 [==============================] - 8s 138us/sample - loss: 0.1759 - accuracy: 0.9339 - val_loss: 0.3682 - val_accuracy: 0.8984\n",
      "Epoch 21/25\n",
      "55000/55000 [==============================] - 8s 138us/sample - loss: 0.1685 - accuracy: 0.9377 - val_loss: 0.3797 - val_accuracy: 0.8930\n",
      "Epoch 22/25\n",
      "55000/55000 [==============================] - 8s 139us/sample - loss: 0.1623 - accuracy: 0.9405 - val_loss: 0.3959 - val_accuracy: 0.8956\n",
      "Epoch 23/25\n",
      "55000/55000 [==============================] - 8s 141us/sample - loss: 0.1558 - accuracy: 0.9423 - val_loss: 0.3848 - val_accuracy: 0.8964\n",
      "Epoch 24/25\n",
      "55000/55000 [==============================] - 8s 143us/sample - loss: 0.1516 - accuracy: 0.9449 - val_loss: 0.3968 - val_accuracy: 0.8966\n",
      "Epoch 25/25\n",
      "55000/55000 [==============================] - 8s 143us/sample - loss: 0.1470 - accuracy: 0.9466 - val_loss: 0.3932 - val_accuracy: 0.9016\n"
     ]
    }
   ],
   "source": [
    "n_epochs=25\n",
    "lr_scheduler = keras.callbacks.LearningRateScheduler(exponential_decay_fn)\n",
    "history = model.fit(x_train, y_train, epochs=n_epochs, validation_data=(x_valid, y_valid), callbacks=[lr_scheduler])"
   ]
  },
  {
   "cell_type": "code",
   "execution_count": 82,
   "metadata": {},
   "outputs": [
    {
     "data": {
      "image/png": "[encoded data removed]",
      "text/plain": [
       "<Figure size 432x288 with 1 Axes>"
      ]
     },
     "metadata": {
      "needs_background": "light"
     },
     "output_type": "display_data"
    }
   ],
   "source": [
    "plt.plot(history.epoch, history.history['lr'], 'o-')\n",
    "plt.axis([0, n_epochs, 0, 0.01])\n",
    "plt.xlabel('Epochs')\n",
    "plt.ylabel('Learning Rate')\n",
    "plt.title('Exponential Scheduling')\n",
    "plt.grid(True)"
   ]
  },
  {
   "cell_type": "code",
   "execution_count": 83,
   "metadata": {},
   "outputs": [],
   "source": [
    "def exponential_decay_fn(epoch, lr):\n",
    "    return lr*0.1**(1/20)"
   ]
  },
  {
   "cell_type": "code",
   "execution_count": 84,
   "metadata": {},
   "outputs": [],
   "source": [
    "model = keras.models.Sequential([\n",
    "    keras.layers.Flatten(input_shape=[28,28]),\n",
    "    keras.layers.Dropout(rate=0.2),\n",
    "    keras.layers.Dense(300, activation='elu', kernel_initializer='he_normal'),\n",
    "    keras.layers.Dropout(rate=0.2),\n",
    "    keras.layers.Dense(100, activation='elu', kernel_initializer='he_normal'),\n",
    "    keras.layers.Dropout(rate=0.2),\n",
    "    keras.layers.Dense(10, activation='softmax')\n",
    "])"
   ]
  },
  {
   "cell_type": "code",
   "execution_count": 86,
   "metadata": {},
   "outputs": [],
   "source": [
    "model.compile(loss='sparse_categorical_crossentropy',\n",
    "             optimizer=keras.optimizers.Nadam(),\n",
    "             metrics=['accuracy'])"
   ]
  },
  {
   "cell_type": "code",
   "execution_count": 87,
   "metadata": {},
   "outputs": [
    {
     "name": "stdout",
     "output_type": "stream",
     "text": [
      "Train on 55000 samples, validate on 5000 samples\n",
      "Epoch 1/2\n",
      "55000/55000 [==============================] - 9s 167us/sample - loss: 0.5807 - accuracy: 0.7873 - val_loss: 0.4340 - val_accuracy: 0.8416\n",
      "Epoch 2/2\n",
      "55000/55000 [==============================] - 8s 154us/sample - loss: 0.4559 - accuracy: 0.8318 - val_loss: 0.3660 - val_accuracy: 0.8672\n"
     ]
    }
   ],
   "source": [
    "history = model.fit(x_train, y_train, epochs=2, validation_data=(x_valid, y_valid))"
   ]
  },
  {
   "cell_type": "code",
   "execution_count": null,
   "metadata": {},
   "outputs": [],
   "source": []
  }
 ],
 "metadata": {
  "kernelspec": {
   "display_name": "Python 3",
   "language": "python",
   "name": "python3"
  },
  "language_info": {
   "codemirror_mode": {
    "name": "ipython",
    "version": 3
   },
   "file_extension": ".py",
   "mimetype": "text/x-python",
   "name": "python",
   "nbconvert_exporter": "python",
   "pygments_lexer": "ipython3",
   "version": "3.7.3"
  }
 },
 "nbformat": 4,
 "nbformat_minor": 2
}
